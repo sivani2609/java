{
 "cells": [
  {
   "cell_type": "code",
   "execution_count": null,
   "id": "e82ad78b",
   "metadata": {
    "vscode": {
     "languageId": "plaintext"
    }
   },
   "outputs": [],
   "source": [
    "arr = [40, 20, 10, 50, 20, 10, 30, 40]\n",
    "visited = [False] * len(arr)\n",
    "uniq = [0] * len(arr)\n",
    "freq = [0] * len(arr)\n",
    "k = 0\n",
    "\n",
    "for i in range(len(arr)):\n",
    "    if visited[i]:\n",
    "        continue\n",
    "    count = 1\n",
    "    for j in range(i + 1, len(arr)):\n",
    "        if arr[i] == arr[j]:\n",
    "            count += 1\n",
    "            visited[j] = True\n",
    "    uniq[k] = arr[i]\n",
    "    freq[k] = count\n",
    "    k += 1\n",
    "\n",
    "# Sort by frequency (Bubble sort logic)\n",
    "for i in range(k - 1):\n",
    "    for j in range(i + 1, k):\n",
    "        if freq[i] > freq[j]:\n",
    "            freq[i], freq[j] = freq[j], freq[i]\n",
    "            uniq[i], uniq[j] = uniq[j], uniq[i]\n",
    "\n",
    "# Print the result\n",
    "for i in range(k):\n",
    "    print(f\"{uniq[i]}--{freq[i]}\")\n"
   ]
  }
 ],
 "metadata": {
  "language_info": {
   "name": "python"
  }
 },
 "nbformat": 4,
 "nbformat_minor": 5
}
